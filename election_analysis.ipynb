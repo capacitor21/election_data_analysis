{
 "metadata": {
  "language_info": {
   "codemirror_mode": {
    "name": "ipython",
    "version": 3
   },
   "file_extension": ".py",
   "mimetype": "text/x-python",
   "name": "python",
   "nbconvert_exporter": "python",
   "pygments_lexer": "ipython3",
   "version": "3.8.3-final"
  },
  "orig_nbformat": 2,
  "kernelspec": {
   "name": "python3",
   "display_name": "Python 3",
   "language": "python"
  }
 },
 "nbformat": 4,
 "nbformat_minor": 2,
 "cells": [
  {
   "cell_type": "code",
   "execution_count": 19,
   "metadata": {},
   "outputs": [],
   "source": [
    "import pandas as pd\n",
    "import numpy as np\n",
    "import folium\n",
    "import json\n",
    "import ast\n",
    "\n",
    "\n",
    "df = pd.read_csv(\"data/usa-2016-presidential-election-by-county.csv\", sep=';')\n",
    "\n",
    "\n"
   ]
  },
  {
   "cell_type": "code",
   "execution_count": 27,
   "metadata": {},
   "outputs": [
    {
     "output_type": "execute_result",
     "data": {
      "text/plain": [
       "{'type': 'Polygon',\n",
       " 'coordinates': [[[-90.6777529996, 45.7244609999],\n",
       "   [-90.6778100004, 45.8448300001],\n",
       "   [-90.6786610001, 45.8684569997],\n",
       "   [-90.677411, 45.874957],\n",
       "   [-90.6771620002, 45.8853570002],\n",
       "   [-90.6788649996, 45.9389549997],\n",
       "   [-90.6769680003, 45.981554],\n",
       "   [-90.4683000002, 45.9811799999],\n",
       "   [-90.043958, 45.9819480002],\n",
       "   [-90.0428059999, 45.8749519997],\n",
       "   [-90.0451979996, 45.8176520004],\n",
       "   [-90.0452100001, 45.7747569999],\n",
       "   [-90.0430539996, 45.7160430002],\n",
       "   [-90.0436639999, 45.5863410003],\n",
       "   [-90.0422729996, 45.3818660003],\n",
       "   [-90.1127280003, 45.38264],\n",
       "   [-90.1592629996, 45.3814839998],\n",
       "   [-90.2903139996, 45.380903],\n",
       "   [-90.4581800003, 45.3769039999],\n",
       "   [-90.6787390001, 45.3777700003],\n",
       "   [-90.6779800002, 45.4936300003],\n",
       "   [-90.6788600003, 45.5010499999],\n",
       "   [-90.67981, 45.53955],\n",
       "   [-90.6777529996, 45.7244609999]]]}"
      ]
     },
     "metadata": {},
     "execution_count": 27
    }
   ],
   "source": [
    "ast.literal_eval(df['Geo Shape'].iloc[50])"
   ]
  },
  {
   "source": [
    "#Store geodata and add County ids\n",
    "\n",
    "with open('counties.json', 'w') as geoData:\n",
    "    geoDict = {\n",
    "        \"type\":\"FeatureCollection\",\n",
    "        \"features\":[]\n",
    "    }\n",
    "\n",
    "    for index, row in df.iterrows():\n",
    "        if row['Geo Shape'] is not np.nan:\n",
    "            geoDict['features'].append(\n",
    "                {\n",
    "                    \"type\" : \"Feature\",\n",
    "                    \"id\" : row['County'],\n",
    "                    \"geometry\" : ast.literal_eval(row['Geo Shape'])\n",
    "                }\n",
    "            )\n",
    "    json.dump(geoDict, geoData)"
   ],
   "cell_type": "code",
   "metadata": {
    "tags": []
   },
   "execution_count": 32,
   "outputs": []
  },
  {
   "cell_type": "code",
   "execution_count": 9,
   "metadata": {
    "tags": []
   },
   "outputs": [],
   "source": [
    "def toPolyLine(geoShape):\n",
    "    #Convert json polyline to folium polyline object\n",
    "    jsonLine = json.loads(geoShape) #load json and get coordiantes\n",
    "    polyLine = jsonLine['coordinates']\n",
    "\n",
    "    #swap coordinate ordering for folium\n",
    "    res = []\n",
    "    for dim in polyLine:\n",
    "        for pair in dim:\n",
    "            res.append([pair[1], pair[0]])\n",
    "    return res\n",
    "\n",
    "df['polyline'] = df['Geo Shape'].dropna().apply(toPolyLine).dropna()"
   ]
  },
  {
   "cell_type": "code",
   "execution_count": 106,
   "metadata": {
    "tags": []
   },
   "outputs": [
    {
     "output_type": "execute_result",
     "data": {
      "text/plain": [
       "'#ffeded'"
      ]
     },
     "metadata": {},
     "execution_count": 106
    }
   ],
   "source": [
    "from colour import Color\n",
    "import math\n",
    "\n",
    "#normalize population\n",
    "min, max = df['Total Population'].min(), df['Total Population'].max()\n",
    "df['norm_population'] = df['Total Population'].apply(\n",
    "    lambda x: (x-min)/(max-min)\n",
    ")\n",
    "\n",
    "#map population to color gradient\n",
    "colorRange = list(Color(\"#FFEFEF\").range_to(Color(\"#FF0000\"), 100))\n",
    "\n",
    "def toColor(population):\n",
    "    size = len(colorRange) - 1\n",
    "    index = math.floor(population*size)\n",
    "\n",
    "    return colorRange[index].hex_l\n",
    "\n",
    "df['gradient'] = df['norm_population'].map(toColor)\n",
    "\n",
    "df['gradient'].iloc[100]"
   ]
  },
  {
   "cell_type": "code",
   "execution_count": 128,
   "metadata": {
    "tags": []
   },
   "outputs": [
    {
     "output_type": "error",
     "ename": "KeyError",
     "evalue": "'gradient'",
     "traceback": [
      "\u001b[1;31m---------------------------------------------------------------------------\u001b[0m",
      "\u001b[1;31mKeyError\u001b[0m                                  Traceback (most recent call last)",
      "\u001b[1;32m<ipython-input-128-6a869cf45649>\u001b[0m in \u001b[0;36m<module>\u001b[1;34m\u001b[0m\n\u001b[0;32m     13\u001b[0m \u001b[1;32mfor\u001b[0m \u001b[0mindex\u001b[0m\u001b[1;33m,\u001b[0m \u001b[0mrow\u001b[0m \u001b[1;32min\u001b[0m \u001b[0mdf\u001b[0m\u001b[1;33m.\u001b[0m\u001b[0miterrows\u001b[0m\u001b[1;33m(\u001b[0m\u001b[1;33m)\u001b[0m\u001b[1;33m:\u001b[0m\u001b[1;33m\u001b[0m\u001b[1;33m\u001b[0m\u001b[0m\n\u001b[0;32m     14\u001b[0m     \u001b[1;32mif\u001b[0m \u001b[0mrow\u001b[0m\u001b[1;33m[\u001b[0m\u001b[1;34m'Geo Shape'\u001b[0m\u001b[1;33m]\u001b[0m \u001b[1;32mis\u001b[0m \u001b[1;32mnot\u001b[0m \u001b[0mnp\u001b[0m\u001b[1;33m.\u001b[0m\u001b[0mnan\u001b[0m\u001b[1;33m:\u001b[0m\u001b[1;33m\u001b[0m\u001b[1;33m\u001b[0m\u001b[0m\n\u001b[1;32m---> 15\u001b[1;33m         folium.GeoJson(\n\u001b[0m\u001b[0;32m     16\u001b[0m             \u001b[0mdata\u001b[0m\u001b[1;33m=\u001b[0m\u001b[0mstr\u001b[0m\u001b[1;33m(\u001b[0m\u001b[0mrow\u001b[0m\u001b[1;33m[\u001b[0m\u001b[1;34m'Geo Shape'\u001b[0m\u001b[1;33m]\u001b[0m\u001b[1;33m)\u001b[0m\u001b[1;33m,\u001b[0m\u001b[1;33m\u001b[0m\u001b[1;33m\u001b[0m\u001b[0m\n\u001b[0;32m     17\u001b[0m             \u001b[0mstyle_function\u001b[0m\u001b[1;33m=\u001b[0m \u001b[0mstyleFunc\u001b[0m\u001b[1;33m\u001b[0m\u001b[1;33m\u001b[0m\u001b[0m\n",
      "\u001b[1;32m~\\Anaconda3\\lib\\site-packages\\folium\\features.py\u001b[0m in \u001b[0;36m__init__\u001b[1;34m(self, data, style_function, highlight_function, name, overlay, control, show, smooth_factor, tooltip, embed, popup)\u001b[0m\n\u001b[0;32m    456\u001b[0m             \u001b[0mself\u001b[0m\u001b[1;33m.\u001b[0m\u001b[0mconvert_to_feature_collection\u001b[0m\u001b[1;33m(\u001b[0m\u001b[1;33m)\u001b[0m\u001b[1;33m\u001b[0m\u001b[1;33m\u001b[0m\u001b[0m\n\u001b[0;32m    457\u001b[0m             \u001b[1;32mif\u001b[0m \u001b[0mself\u001b[0m\u001b[1;33m.\u001b[0m\u001b[0mstyle\u001b[0m\u001b[1;33m:\u001b[0m\u001b[1;33m\u001b[0m\u001b[1;33m\u001b[0m\u001b[0m\n\u001b[1;32m--> 458\u001b[1;33m                 \u001b[0mself\u001b[0m\u001b[1;33m.\u001b[0m\u001b[0m_validate_function\u001b[0m\u001b[1;33m(\u001b[0m\u001b[0mstyle_function\u001b[0m\u001b[1;33m,\u001b[0m \u001b[1;34m'style_function'\u001b[0m\u001b[1;33m)\u001b[0m\u001b[1;33m\u001b[0m\u001b[1;33m\u001b[0m\u001b[0m\n\u001b[0m\u001b[0;32m    459\u001b[0m                 \u001b[0mself\u001b[0m\u001b[1;33m.\u001b[0m\u001b[0mstyle_function\u001b[0m \u001b[1;33m=\u001b[0m \u001b[0mstyle_function\u001b[0m\u001b[1;33m\u001b[0m\u001b[1;33m\u001b[0m\u001b[0m\n\u001b[0;32m    460\u001b[0m                 \u001b[0mself\u001b[0m\u001b[1;33m.\u001b[0m\u001b[0mstyle_map\u001b[0m \u001b[1;33m=\u001b[0m \u001b[1;33m{\u001b[0m\u001b[1;33m}\u001b[0m\u001b[1;33m\u001b[0m\u001b[1;33m\u001b[0m\u001b[0m\n",
      "\u001b[1;32m~\\Anaconda3\\lib\\site-packages\\folium\\features.py\u001b[0m in \u001b[0;36m_validate_function\u001b[1;34m(self, func, name)\u001b[0m\n\u001b[0;32m    521\u001b[0m         \"\"\"\n\u001b[0;32m    522\u001b[0m         \u001b[0mtest_feature\u001b[0m \u001b[1;33m=\u001b[0m \u001b[0mself\u001b[0m\u001b[1;33m.\u001b[0m\u001b[0mdata\u001b[0m\u001b[1;33m[\u001b[0m\u001b[1;34m'features'\u001b[0m\u001b[1;33m]\u001b[0m\u001b[1;33m[\u001b[0m\u001b[1;36m0\u001b[0m\u001b[1;33m]\u001b[0m\u001b[1;33m\u001b[0m\u001b[1;33m\u001b[0m\u001b[0m\n\u001b[1;32m--> 523\u001b[1;33m         \u001b[1;32mif\u001b[0m \u001b[1;32mnot\u001b[0m \u001b[0mcallable\u001b[0m\u001b[1;33m(\u001b[0m\u001b[0mfunc\u001b[0m\u001b[1;33m)\u001b[0m \u001b[1;32mor\u001b[0m \u001b[1;32mnot\u001b[0m \u001b[0misinstance\u001b[0m\u001b[1;33m(\u001b[0m\u001b[0mfunc\u001b[0m\u001b[1;33m(\u001b[0m\u001b[0mtest_feature\u001b[0m\u001b[1;33m)\u001b[0m\u001b[1;33m,\u001b[0m \u001b[0mdict\u001b[0m\u001b[1;33m)\u001b[0m\u001b[1;33m:\u001b[0m\u001b[1;33m\u001b[0m\u001b[1;33m\u001b[0m\u001b[0m\n\u001b[0m\u001b[0;32m    524\u001b[0m             raise ValueError('{} should be a function that accepts items from '\n\u001b[0;32m    525\u001b[0m                              \u001b[1;34m'data[\\'features\\'] and returns a dictionary.'\u001b[0m\u001b[1;33m\u001b[0m\u001b[1;33m\u001b[0m\u001b[0m\n",
      "\u001b[1;32m<ipython-input-128-6a869cf45649>\u001b[0m in \u001b[0;36mstyleFunc\u001b[1;34m(feature)\u001b[0m\n\u001b[0;32m      5\u001b[0m \u001b[1;33m\u001b[0m\u001b[0m\n\u001b[0;32m      6\u001b[0m \u001b[1;32mdef\u001b[0m \u001b[0mstyleFunc\u001b[0m\u001b[1;33m(\u001b[0m\u001b[0mfeature\u001b[0m\u001b[1;33m)\u001b[0m\u001b[1;33m:\u001b[0m\u001b[1;33m\u001b[0m\u001b[1;33m\u001b[0m\u001b[0m\n\u001b[1;32m----> 7\u001b[1;33m     \u001b[0mprint\u001b[0m\u001b[1;33m(\u001b[0m\u001b[0mfeature\u001b[0m\u001b[1;33m[\u001b[0m\u001b[1;34m'gradient'\u001b[0m\u001b[1;33m]\u001b[0m\u001b[1;33m)\u001b[0m\u001b[1;33m\u001b[0m\u001b[1;33m\u001b[0m\u001b[0m\n\u001b[0m\u001b[0;32m      8\u001b[0m     return {\n\u001b[0;32m      9\u001b[0m         \u001b[1;34m'fillColor'\u001b[0m\u001b[1;33m:\u001b[0m \u001b[0mfeature\u001b[0m\u001b[1;33m[\u001b[0m\u001b[1;34m'gradient'\u001b[0m\u001b[1;33m]\u001b[0m\u001b[1;33m,\u001b[0m\u001b[1;33m\u001b[0m\u001b[1;33m\u001b[0m\u001b[0m\n",
      "\u001b[1;31mKeyError\u001b[0m: 'gradient'"
     ]
    }
   ],
   "source": [
    "map = folium.Map(\n",
    "    location=[40.8336, -74.5463], \n",
    "    zoom_start=10,\n",
    "    )\n",
    "\n",
    "def styleFunc(feature):\n",
    "    print(feature['gradient'])            \n",
    "    return {\n",
    "        'fillColor': feature['gradient'],\n",
    "        'fillOpacity': 1.0\n",
    "    }\n",
    "\n",
    "for index, row in df.iterrows():\n",
    "    if row['Geo Shape'] is not np.nan:\n",
    "        folium.GeoJson(\n",
    "            data=str(row['Geo Shape']),\n",
    "            style_function= styleFunc\n",
    "            ).add_to(map)"
   ]
  },
  {
   "cell_type": "code",
   "execution_count": 39,
   "metadata": {},
   "outputs": [
    {
     "output_type": "error",
     "ename": "TypeError",
     "evalue": "'NoneType' object is not subscriptable",
     "traceback": [
      "\u001b[1;31m---------------------------------------------------------------------------\u001b[0m",
      "\u001b[1;31mTypeError\u001b[0m                                 Traceback (most recent call last)",
      "\u001b[1;32m<ipython-input-39-e063b58d8532>\u001b[0m in \u001b[0;36m<module>\u001b[1;34m\u001b[0m\n\u001b[0;32m      2\u001b[0m     \u001b[0mcounties\u001b[0m \u001b[1;33m=\u001b[0m \u001b[0mjson\u001b[0m\u001b[1;33m.\u001b[0m\u001b[0mload\u001b[0m\u001b[1;33m(\u001b[0m\u001b[0mgeoData\u001b[0m\u001b[1;33m)\u001b[0m\u001b[1;33m\u001b[0m\u001b[1;33m\u001b[0m\u001b[0m\n\u001b[0;32m      3\u001b[0m \u001b[1;33m\u001b[0m\u001b[0m\n\u001b[1;32m----> 4\u001b[1;33m folium.Choropleth(\n\u001b[0m\u001b[0;32m      5\u001b[0m     \u001b[0mgeo_data\u001b[0m\u001b[1;33m=\u001b[0m\u001b[0mcounties\u001b[0m\u001b[1;33m,\u001b[0m\u001b[1;33m\u001b[0m\u001b[1;33m\u001b[0m\u001b[0m\n\u001b[0;32m      6\u001b[0m     \u001b[0mname\u001b[0m\u001b[1;33m=\u001b[0m\u001b[1;34m'choropleth'\u001b[0m\u001b[1;33m,\u001b[0m\u001b[1;33m\u001b[0m\u001b[1;33m\u001b[0m\u001b[0m\n",
      "\u001b[1;32m~\\Anaconda3\\lib\\site-packages\\folium\\features.py\u001b[0m in \u001b[0;36m__init__\u001b[1;34m(self, geo_data, data, columns, key_on, bins, fill_color, nan_fill_color, fill_opacity, nan_fill_opacity, line_color, line_weight, line_opacity, name, legend_name, overlay, control, show, topojson, smooth_factor, highlight, **kwargs)\u001b[0m\n\u001b[0;32m   1156\u001b[0m         \u001b[1;32mif\u001b[0m \u001b[0mhasattr\u001b[0m\u001b[1;33m(\u001b[0m\u001b[0mdata\u001b[0m\u001b[1;33m,\u001b[0m \u001b[1;34m'set_index'\u001b[0m\u001b[1;33m)\u001b[0m\u001b[1;33m:\u001b[0m\u001b[1;33m\u001b[0m\u001b[1;33m\u001b[0m\u001b[0m\n\u001b[0;32m   1157\u001b[0m             \u001b[1;31m# This is a pd.DataFrame\u001b[0m\u001b[1;33m\u001b[0m\u001b[1;33m\u001b[0m\u001b[1;33m\u001b[0m\u001b[0m\n\u001b[1;32m-> 1158\u001b[1;33m             \u001b[0mcolor_data\u001b[0m \u001b[1;33m=\u001b[0m \u001b[0mdata\u001b[0m\u001b[1;33m.\u001b[0m\u001b[0mset_index\u001b[0m\u001b[1;33m(\u001b[0m\u001b[0mcolumns\u001b[0m\u001b[1;33m[\u001b[0m\u001b[1;36m0\u001b[0m\u001b[1;33m]\u001b[0m\u001b[1;33m)\u001b[0m\u001b[1;33m[\u001b[0m\u001b[0mcolumns\u001b[0m\u001b[1;33m[\u001b[0m\u001b[1;36m1\u001b[0m\u001b[1;33m]\u001b[0m\u001b[1;33m]\u001b[0m\u001b[1;33m.\u001b[0m\u001b[0mto_dict\u001b[0m\u001b[1;33m(\u001b[0m\u001b[1;33m)\u001b[0m\u001b[1;33m\u001b[0m\u001b[1;33m\u001b[0m\u001b[0m\n\u001b[0m\u001b[0;32m   1159\u001b[0m         \u001b[1;32melif\u001b[0m \u001b[0mhasattr\u001b[0m\u001b[1;33m(\u001b[0m\u001b[0mdata\u001b[0m\u001b[1;33m,\u001b[0m \u001b[1;34m'to_dict'\u001b[0m\u001b[1;33m)\u001b[0m\u001b[1;33m:\u001b[0m\u001b[1;33m\u001b[0m\u001b[1;33m\u001b[0m\u001b[0m\n\u001b[0;32m   1160\u001b[0m             \u001b[1;31m# This is a pd.Series\u001b[0m\u001b[1;33m\u001b[0m\u001b[1;33m\u001b[0m\u001b[1;33m\u001b[0m\u001b[0m\n",
      "\u001b[1;31mTypeError\u001b[0m: 'NoneType' object is not subscriptable"
     ]
    }
   ],
   "source": [
    "with open('counties.json', 'r') as geoData:\n",
    "    counties = json.load(geoData)\n",
    "\n",
    "folium.Choropleth(\n",
    "    geo_data=counties,\n",
    "    name='choropleth',\n",
    "    data=df,\n",
    "    key_on='feature.id'\n",
    ").add_to(map)"
   ]
  },
  {
   "cell_type": "code",
   "execution_count": 133,
   "metadata": {
    "tags": []
   },
   "outputs": [
    {
     "output_type": "execute_result",
     "data": {
      "text/plain": [
       "<folium.folium.Map at 0x1891245c9d0>"
      ],
      "text/html": "<div style=\"width:100%;\"><div style=\"position:relative;width:100%;height:0;padding-bottom:60%;\"><span style=\"color:#565656\">Make this Notebook Trusted to load map: File -> Trust Notebook</span><iframe src=\"about:blank\" style=\"position:absolute;width:100%;height:100%;left:0;top:0;border:none !important;\" data-html=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 onload=\"this.contentDocument.open();this.contentDocument.write(atob(this.getAttribute('data-html')));this.contentDocument.close();\" allowfullscreen webkitallowfullscreen mozallowfullscreen></iframe></div></div>"
     },
     "metadata": {},
     "execution_count": 133
    }
   ],
   "source": [
    "map"
   ]
  },
  {
   "cell_type": "code",
   "execution_count": 119,
   "metadata": {},
   "outputs": [
    {
     "output_type": "execute_result",
     "data": {
      "text/plain": [
       "0       #ffefef\n",
       "1       #ffefef\n",
       "2       #ffefef\n",
       "3       #ffdcdc\n",
       "4       #ffefef\n",
       "         ...   \n",
       "3138    #ffefef\n",
       "3139    #ffdcdc\n",
       "3140    #ffefef\n",
       "3141    #ffefef\n",
       "3142    #ffefef\n",
       "Name: gradient, Length: 3143, dtype: object"
      ]
     },
     "metadata": {},
     "execution_count": 119
    }
   ],
   "source": [
    "df['gradient'].astype(str)"
   ]
  },
  {
   "cell_type": "code",
   "execution_count": null,
   "metadata": {},
   "outputs": [],
   "source": []
  }
 ]
}